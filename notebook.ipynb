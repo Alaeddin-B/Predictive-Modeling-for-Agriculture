{
 "cells": [
  {
   "cell_type": "markdown",
   "id": "d3d001b0-2e2f-4b58-8442-99520bad831f",
   "metadata": {},
   "source": [
    "# Sowing Success: How Machine Learning Helps Farmers Select the Best Crops\n",
    "\n",
    "![Farmer in a field](farmer_in_a_field.jpg)\n",
    "\n",
    "Measuring essential soil metrics such as nitrogen, phosphorous, potassium levels, and pH value is an important aspect of assessing soil condition. However, it can be an expensive and time-consuming process, which can cause farmers to prioritize which metrics to measure based on their budget constraints.\n",
    "\n",
    "Farmers have various options when it comes to deciding which crop to plant each season. Their primary objective is to maximize the yield of their crops, taking into account different factors. One crucial factor that affects crop growth is the condition of the soil in the field, which can be assessed by measuring basic elements such as nitrogen and potassium levels. Each crop has an ideal soil condition that ensures optimal growth and maximum yield.\n",
    "\n",
    "A farmer reached out to you as a machine learning expert for assistance in selecting the best crop for his field. They've provided you with a dataset called `soil_measures.csv`, which contains:\n",
    "\n",
    "- `\"N\"`: Nitrogen content ratio in the soil\n",
    "- `\"P\"`: Phosphorous content ratio in the soil\n",
    "- `\"K\"`: Potassium content ratio in the soil\n",
    "- `\"pH\"` value of the soil\n",
    "- `\"crop\"`: categorical values that contain various crops (target variable).\n",
    "\n",
    "Each row in this dataset represents various measures of the soil in a particular field. Based on these measurements, the crop specified in the `\"crop\"` column is the optimal choice for that field.  \n",
    "\n",
    "In this project, you will build multi-class classification models to predict the type of `\"crop\"` and identify the single most importance feature for predictive performance."
   ]
  },
  {
   "cell_type": "code",
   "execution_count": 34,
   "id": "d0eb4f16-5a99-460d-a5ba-706b7ef0bbe7",
   "metadata": {
    "executionCancelledAt": null,
    "executionTime": 14,
    "id": "bA5ajAmk7XH6",
    "lastExecutedAt": 1707317470036,
    "lastScheduledRunId": null,
    "lastSuccessfullyExecutedCode": "# All required libraries are imported here for you.\nimport pandas as pd\nfrom sklearn.linear_model import LogisticRegression\nfrom sklearn.ensemble import RandomForestClassifier\nfrom sklearn.model_selection import train_test_split\nfrom sklearn import metrics\n\n# Load the dataset\ncrops = pd.read_csv(\"soil_measures.csv\")\n\n# Write your code here"
   },
   "outputs": [
    {
     "name": "stdout",
     "output_type": "stream",
     "text": [
      "    N   P   K        ph  crop\n",
      "0  90  42  43  6.502985  rice\n",
      "1  85  58  41  7.038096  rice\n",
      "2  60  55  44  7.840207  rice\n",
      "3  74  35  40  6.980401  rice\n",
      "4  78  42  42  7.628473  rice\n",
      "['rice' 'maize' 'chickpea' 'kidneybeans' 'pigeonpeas' 'mothbeans'\n",
      " 'mungbean' 'blackgram' 'lentil' 'pomegranate' 'banana' 'mango' 'grapes'\n",
      " 'watermelon' 'muskmelon' 'apple' 'orange' 'papaya' 'coconut' 'cotton'\n",
      " 'jute' 'coffee']\n",
      "0\n",
      "    N   P   K        ph  crop  crop_codes\n",
      "0  90  42  43  6.502985  rice          20\n",
      "1  85  58  41  7.038096  rice          20\n",
      "2  60  55  44  7.840207  rice          20\n",
      "3  74  35  40  6.980401  rice          20\n",
      "4  78  42  42  7.628473  rice          20\n"
     ]
    }
   ],
   "source": [
    "# All required libraries are imported here for you.\n",
    "import pandas as pd\n",
    "from sklearn.linear_model import LogisticRegression\n",
    "from sklearn.model_selection import train_test_split\n",
    "from sklearn import metrics\n",
    "from sklearn.preprocessing import StandardScaler\n",
    "import numpy as np\n",
    "import matplotlib.pyplot as plt\n",
    "\n",
    "# Load the dataset\n",
    "crops = pd.read_csv(\"soil_measures.csv\")\n",
    "\n",
    "# Write your code here\n",
    "print(crops.head())\n",
    "print(crops[\"crop\"].unique())\n",
    "print(crops[\"crop\"].isna().sum())\n",
    "crops[\"crop_codes\"] = crops[\"crop\"].astype(\"category\").cat.codes\n",
    "print(crops.head())\n"
   ]
  },
  {
   "cell_type": "code",
   "execution_count": null,
   "id": "db58d197",
   "metadata": {},
   "outputs": [
    {
     "name": "stdout",
     "output_type": "stream",
     "text": [
      "0.6590909090909091\n"
     ]
    },
    {
     "data": {
      "image/png": "[encoded data removed]",
      "text/plain": [
       "<Figure size 800x400 with 1 Axes>"
      ]
     },
     "metadata": {},
     "output_type": "display_data"
    },
    {
     "name": "stdout",
     "output_type": "stream",
     "text": [
      "Most important feature for prediction: {'K': 0.6590909090909091}\n"
     ]
    }
   ],
   "source": [
    "X = crops.drop(columns=[\"crop\", \"crop_codes\"]).values\n",
    "y = crops[\"crop_codes\"].values\n",
    "names = crops.drop(columns=[\"crop\", \"crop_codes\"]).columns\n",
    "\n",
    "\n",
    "X_train, X_test, y_train, y_test = train_test_split(X, y, test_size=0.2, random_state=42)\n",
    "\n",
    "scaler = StandardScaler()\n",
    "\n",
    "X_train = scaler.fit_transform(X_train)\n",
    "X_test = scaler.transform(X_test)\n",
    "\n",
    "logrec = LogisticRegression()\n",
    "coef = logrec.fit(X_train, y_train).coef_\n",
    "y_pred = logrec.predict(X_test)\n",
    "\n",
    "print(metrics.accuracy_score(y_test, y_pred))\n",
    "\n",
    "\n",
    "# Find the most important feature\n",
    "# Sum the absolute values of coefficients across all classes\n",
    "feature_importance = np.abs(coef).sum(axis=0)\n",
    "best_feature_index = np.argmax(feature_importance)\n",
    "best_feature = names[best_feature_index]\n",
    "\n",
    "best_predictive_feature = {\n",
    "    best_feature: metrics.accuracy_score(y_test, y_pred),\n",
    "}\n",
    "\n",
    "# Plot feature importance\n",
    "plt.figure(figsize=(8, 4))\n",
    "plt.bar(names, feature_importance)\n",
    "plt.xlabel(\"Features\")\n",
    "plt.ylabel(\"Importance (sum of absolute coefficients)\")\n",
    "plt.title(\"Feature Importance for Crop Prediction\")\n",
    "plt.xticks(rotation=45)\n",
    "plt.tight_layout()\n",
    "plt.show()\n",
    "\n",
    "\n",
    "print(\"Most important feature for prediction:\", best_predictive_feature)\n"
   ]
  }
 ],
 "metadata": {
  "colab": {
   "name": "Welcome to DataCamp Workspaces.ipynb",
   "provenance": []
  },
  "kernelspec": {
   "display_name": "Python 3",
   "language": "python",
   "name": "python3"
  },
  "language_info": {
   "codemirror_mode": {
    "name": "ipython",
    "version": 3
   },
   "file_extension": ".py",
   "mimetype": "text/x-python",
   "name": "python",
   "nbconvert_exporter": "python",
   "pygments_lexer": "ipython3",
   "version": "3.13.7"
  }
 },
 "nbformat": 4,
 "nbformat_minor": 5
}
